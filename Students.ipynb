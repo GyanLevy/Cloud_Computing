{
  "nbformat": 4,
  "nbformat_minor": 0,
  "metadata": {
    "colab": {
      "provenance": [],
      "authorship_tag": "ABX9TyNimQDjXEtpipDcX8QCyNio",
      "include_colab_link": true
    },
    "kernelspec": {
      "name": "python3",
      "display_name": "Python 3"
    },
    "language_info": {
      "name": "python"
    }
  },
  "cells": [
    {
      "cell_type": "markdown",
      "metadata": {
        "id": "view-in-github",
        "colab_type": "text"
      },
      "source": [
        "<a href=\"https://colab.research.google.com/github/GyanLevy/Cloud_Computing/blob/main/Students.ipynb\" target=\"_parent\"><img src=\"https://colab.research.google.com/assets/colab-badge.svg\" alt=\"Open In Colab\"/></a>"
      ]
    },
    {
      "cell_type": "code",
      "execution_count": 1,
      "metadata": {
        "colab": {
          "base_uri": "https://localhost:8080/"
        },
        "id": "_f_qlVD-LoHc",
        "outputId": "7c953b28-ceb3-412c-c7fb-e327e2d0b2b4"
      },
      "outputs": [
        {
          "output_type": "stream",
          "name": "stdout",
          "text": [
            "Mounted at /content/drive\n"
          ]
        }
      ],
      "source": [
        "from google.colab import drive\n",
        "drive.mount('/content/drive')"
      ]
    },
    {
      "cell_type": "code",
      "source": [
        "cd /content/drive/MyDrive/Colab Notebooks"
      ],
      "metadata": {
        "colab": {
          "base_uri": "https://localhost:8080/"
        },
        "id": "feIh9bb-L_3M",
        "outputId": "584d8e01-e94d-4b9a-b6be-b796391bcd98"
      },
      "execution_count": 2,
      "outputs": [
        {
          "output_type": "stream",
          "name": "stdout",
          "text": [
            "/content/drive/MyDrive/Colab Notebooks\n"
          ]
        }
      ]
    },
    {
      "cell_type": "code",
      "source": [
        "# === Students Form (Colab) — uses `with open(...)` to read the file ===\n",
        "import re, ast, os, json\n",
        "from IPython.display import display, HTML, clear_output\n",
        "\n",
        "# --- היכן נמצא הקובץ? ---\n",
        "# אם העלית ל-Colab (בחלון Files), הנתיב הוא בד\"כ /content/students.txt\n",
        "PREFERRED_PATHS = [\"/content/students.txt\", \"students.txt\", \"/content/1.txt\", \"1.txt\"]\n",
        "\n",
        "file_path = None\n",
        "for p in PREFERRED_PATHS:\n",
        "    if os.path.exists(p):\n",
        "        file_path = p\n",
        "        break\n",
        "if file_path is None:\n",
        "    raise FileNotFoundError(\n",
        "        \"לא נמצא students.txt. העלה את הקובץ ל-Colab (בחלון Files) או עדכן את הנתיב ברשימת PREFERRED_PATHS.\"\n",
        "    )\n",
        "\n",
        "# --- קריאה באמצעות with open(...) בדיוק כמו שביקשת ---\n",
        "with open(file_path, \"r\", encoding=\"utf-8\") as f:\n",
        "    raw_text = f.read()\n",
        "\n",
        "# אפשר גם לעבוד לפי שורות:\n",
        "lines = [ln.strip() for ln in raw_text.splitlines() if ln.strip()]\n",
        "\n",
        "# --- פרסינג של כל שורה: First, Last, Email, [\"Course1\",\"Course2\",...], Link ---\n",
        "pattern = re.compile(r'^\\s*([^,]+),\\s*([^,]+),\\s*([^,]+),\\s*(\\[.*\\]),\\s*(\\S+)\\s*$')\n",
        "records = []\n",
        "for idx, line in enumerate(lines, 1):\n",
        "    m = pattern.match(line)\n",
        "    if not m:\n",
        "        raise ValueError(f\"שורה {idx} לא בפורמט המצופה:\\n{line}\")\n",
        "    first, last, email, courses_str, link = m.groups()\n",
        "    try:\n",
        "        courses = ast.literal_eval(courses_str)\n",
        "    except Exception:\n",
        "        # fallback פשוט\n",
        "        courses = [c.strip().strip('\"').strip(\"'\") for c in courses_str.strip(\"[]\").split(\",\") if c.strip()]\n",
        "    records.append({\"first_name\": first, \"last_name\": last, \"email\": email, \"courses\": courses, \"link\": link})\n",
        "\n",
        "# --- CSS לעיצוב הכרטיס והטופס ---\n",
        "CARD_CSS = \"\"\"\n",
        "<style>\n",
        ":root {\n",
        "  --bg: #0b0f14; --card: #121923; --card-2: #0f141b; --text: #e7eef7; --muted: #b6c6da;\n",
        "  --accent: #3ea6ff; --chip: #1e2a38; --chip-text: #d9e6f7; --shadow: 0 10px 30px rgba(0,0,0,.35);\n",
        "}\n",
        "@media (prefers-color-scheme: light) {\n",
        "  :root {\n",
        "    --bg: #f6f8fb; --card: #ffffff; --card-2: #f3f6fa; --text: #0e141b; --muted: #3b506a;\n",
        "    --accent: #0b67d3; --chip: #e9f2ff; --chip-text: #0b3d7a; --shadow: 0 10px 30px rgba(0,0,0,.08);\n",
        "  }\n",
        "}\n",
        ".wrapper { max-width: 900px; font-family: ui-sans-serif, system-ui, -apple-system, \"Segoe UI\", Roboto, Arial; color: var(--text); }\n",
        ".header { display:flex; align-items:center; gap:12px; margin: 8px 0 14px; }\n",
        ".header h1 { font-size: 20px; margin: 0; letter-spacing:.2px; }\n",
        ".card {\n",
        "  margin-top: 14px; padding: 18px 20px; border-radius: 14px;\n",
        "  background: linear-gradient(180deg, var(--card) 0%, var(--card-2) 100%);\n",
        "  border: 1px solid rgba(255,255,255,.06); color: var(--text); box-shadow: var(--shadow);\n",
        "}\n",
        ".card h2 { margin: 0 0 8px 0; font-size: 22px; }\n",
        ".kv { margin: 6px 0; }\n",
        ".kv b { display:inline-block; width:100px; }\n",
        ".chips { display:flex; flex-wrap:wrap; gap:8px; margin:10px 0 16px; }\n",
        ".chip { background: var(--chip); color: var(--chip-text); padding:6px 10px; border-radius:999px; font-size:12px; border: 1px solid rgba(255,255,255,.08); }\n",
        "a.btn { text-decoration:none; background: var(--accent); color: white; padding: 10px 14px; border-radius: 12px; font-weight: 700; }\n",
        ".small { color: var(--muted); font-size: 12px; margin-top: 8px; }\n",
        "</style>\n",
        "\"\"\"\n",
        "\n",
        "def student_card_html(s):\n",
        "    chips = \"\".join(f'<span class=\"chip\">{c}</span>' for c in s[\"courses\"])\n",
        "    return f\"\"\"\n",
        "    <div class=\"card\">\n",
        "      <h2>{s['first_name']} {s['last_name']}</h2>\n",
        "      <div class=\"kv\"><b>Email</b> <a href=\"mailto:{s['email']}\">{s['email']}</a></div>\n",
        "      <div class=\"kv\"><b>Courses</b></div>\n",
        "      <div class=\"chips\">{chips}</div>\n",
        "      <div><a class=\"btn\" href=\"{s['link']}\" target=\"_blank\" rel=\"noopener\">Open interesting link ↗</a></div>\n",
        "      <div class=\"small\">רמז: אפשר לבחור סטודנט אחר בתיבה למעלה.</div>\n",
        "    </div>\n",
        "    \"\"\"\n",
        "\n",
        "# --- ניסיון להשתמש ב־ipywidgets; אם אין — נציג Fallback HTML אינטראקטיבי ---\n",
        "use_widgets = False\n",
        "try:\n",
        "    import ipywidgets as widgets\n",
        "    use_widgets = True\n",
        "except Exception:\n",
        "    use_widgets = False\n",
        "\n",
        "if use_widgets:\n",
        "    dd = widgets.Dropdown(\n",
        "        options=[(f\"{r['first_name']} {r['last_name']}  ·  {r['email']}\", i) for i, r in enumerate(records)],\n",
        "        value=0, description=\"סטודנט:\", layout=widgets.Layout(width=\"650px\")\n",
        "    )\n",
        "    out = widgets.Output()\n",
        "\n",
        "    def render(i):\n",
        "        with out:\n",
        "            clear_output(wait=True)\n",
        "            display(HTML(CARD_CSS + '<div class=\"wrapper\">' + student_card_html(records[i]) + '</div>'))\n",
        "\n",
        "    def on_change(ch):\n",
        "        if ch[\"name\"] == \"value\" and ch[\"type\"] == \"change\":\n",
        "            render(ch[\"new\"])\n",
        "\n",
        "    dd.observe(on_change)\n",
        "    display(dd); render(0)\n",
        "else:\n",
        "    # Fallback HTML בלבד (עם כפתורים לכל סטודנט)\n",
        "    buttons_html = \"\"\n",
        "    for i, s in enumerate(records):\n",
        "        buttons_html += f\"\"\"\n",
        "        <button onclick=\"selectStudent({i})\" style=\"margin:4px; padding:8px 12px; border-radius:10px; border:1px solid #ccc; cursor:pointer;\">\n",
        "            {s['first_name']} {s['last_name']} • {s['email']}\n",
        "        </button>\n",
        "        \"\"\"\n",
        "    html = f\"\"\"\n",
        "    {CARD_CSS}\n",
        "    <div class=\"wrapper\">\n",
        "      <div class=\"header\"><h1>טופס בחירה - סטודנטים</h1></div>\n",
        "      <div>{buttons_html}</div>\n",
        "      <div id=\"details\">{student_card_html(records[0])}</div>\n",
        "    </div>\n",
        "    <script>\n",
        "      const STUDENTS = {json.dumps(records)};\n",
        "      const chip = (t) => `<span class=\"chip\">${{t}}</span>`;\n",
        "      function renderCard(i){{\n",
        "        const s = STUDENTS[i];\n",
        "        const chips = (s.courses||[]).map(chip).join('');\n",
        "        return `\n",
        "          <div class=\"card\">\n",
        "            <h2>${{s.first_name}} ${{s.last_name}}</h2>\n",
        "            <div class=\"kv\"><b>Email</b> <a href=\"mailto:${{s.email}}\">${{s.email}}</a></div>\n",
        "            <div class=\"kv\"><b>Courses</b></div>\n",
        "            <div class=\"chips\">${{chips}}</div>\n",
        "            <div><a class=\"btn\" href=\"${{s.link}}\" target=\"_blank\" rel=\"noopener\">Open interesting link ↗</a></div>\n",
        "            <div class=\"small\">רמז: לחץ על כפתור אחר כדי להחליף.</div>\n",
        "          </div>`;\n",
        "      }}\n",
        "      function selectStudent(i){{\n",
        "        document.querySelector(\"#details\").innerHTML = renderCard(i);\n",
        "      }}\n",
        "    </script>\n",
        "    \"\"\"\n",
        "    display(HTML(html))\n"
      ],
      "metadata": {
        "colab": {
          "base_uri": "https://localhost:8080/",
          "height": 228
        },
        "id": "nFd7hdAqNKSR",
        "outputId": "a2b26d56-ab7e-4fcf-8849-654372b67e87"
      },
      "execution_count": 6,
      "outputs": [
        {
          "output_type": "error",
          "ename": "ValueError",
          "evalue": "שורה 1 לא בפורמט המצופה:\nOne",
          "traceback": [
            "\u001b[0;31m---------------------------------------------------------------------------\u001b[0m",
            "\u001b[0;31mValueError\u001b[0m                                Traceback (most recent call last)",
            "\u001b[0;32m/tmp/ipython-input-765025627.py\u001b[0m in \u001b[0;36m<cell line: 0>\u001b[0;34m()\u001b[0m\n\u001b[1;32m     30\u001b[0m     \u001b[0mm\u001b[0m \u001b[0;34m=\u001b[0m \u001b[0mpattern\u001b[0m\u001b[0;34m.\u001b[0m\u001b[0mmatch\u001b[0m\u001b[0;34m(\u001b[0m\u001b[0mline\u001b[0m\u001b[0;34m)\u001b[0m\u001b[0;34m\u001b[0m\u001b[0;34m\u001b[0m\u001b[0m\n\u001b[1;32m     31\u001b[0m     \u001b[0;32mif\u001b[0m \u001b[0;32mnot\u001b[0m \u001b[0mm\u001b[0m\u001b[0;34m:\u001b[0m\u001b[0;34m\u001b[0m\u001b[0;34m\u001b[0m\u001b[0m\n\u001b[0;32m---> 32\u001b[0;31m         \u001b[0;32mraise\u001b[0m \u001b[0mValueError\u001b[0m\u001b[0;34m(\u001b[0m\u001b[0;34mf\"שורה {idx} לא בפורמט המצופה:\\n{line}\"\u001b[0m\u001b[0;34m)\u001b[0m\u001b[0;34m\u001b[0m\u001b[0;34m\u001b[0m\u001b[0m\n\u001b[0m\u001b[1;32m     33\u001b[0m     \u001b[0mfirst\u001b[0m\u001b[0;34m,\u001b[0m \u001b[0mlast\u001b[0m\u001b[0;34m,\u001b[0m \u001b[0memail\u001b[0m\u001b[0;34m,\u001b[0m \u001b[0mcourses_str\u001b[0m\u001b[0;34m,\u001b[0m \u001b[0mlink\u001b[0m \u001b[0;34m=\u001b[0m \u001b[0mm\u001b[0m\u001b[0;34m.\u001b[0m\u001b[0mgroups\u001b[0m\u001b[0;34m(\u001b[0m\u001b[0;34m)\u001b[0m\u001b[0;34m\u001b[0m\u001b[0;34m\u001b[0m\u001b[0m\n\u001b[1;32m     34\u001b[0m     \u001b[0;32mtry\u001b[0m\u001b[0;34m:\u001b[0m\u001b[0;34m\u001b[0m\u001b[0;34m\u001b[0m\u001b[0m\n",
            "\u001b[0;31mValueError\u001b[0m: שורה 1 לא בפורמט המצופה:\nOne"
          ]
        }
      ]
    }
  ]
}